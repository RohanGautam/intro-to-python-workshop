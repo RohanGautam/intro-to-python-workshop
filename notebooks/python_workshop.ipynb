{
 "cells": [
  {
   "cell_type": "markdown",
   "metadata": {},
   "source": [
    "# Introduction to python\n",
    "\n",
    "Hello, all! What you see in front of you is a python notebook, also referred to as a \"jupyter notebook\". The notebook interface for python was made by [project jupyter](https://jupyter.org/), and is a super popular way to write and share python code."
   ]
  },
  {
   "cell_type": "markdown",
   "metadata": {},
   "source": [
    "This interface runs in your web browser and allows a lot of things in one document - equations, images, visualisations, explanations, and of course, code."
   ]
  },
  {
   "cell_type": "markdown",
   "metadata": {},
   "source": [
    "Check out these equations- written in MathJax, a subset of LaTeX. \n",
    "\n",
    "\\begin{align}\n",
    "\\dot{x} & = \\sigma(y-x) \\\\\n",
    "\\dot{y} & = \\rho x - y - xz \\\\\n",
    "\\dot{z} & = -\\beta z + xy\n",
    "\\end{align}\n"
   ]
  },
  {
   "cell_type": "markdown",
   "metadata": {},
   "source": [
    "And images!\n",
    "\n",
    "\n",
    "![](https://raw.githubusercontent.com/RohanGautam/intro-to-python-workshop/master/assets/intro-to-python.png)"
   ]
  },
  {
   "cell_type": "code",
   "execution_count": null,
   "metadata": {},
   "outputs": [],
   "source": [
    "# this is a comment - it's for you to document your code to make it understandable for your\n",
    "# future self and for others. Don't worry, it's ignored by the python interpreter!\n",
    "\n",
    "# the print function\n",
    "print(\"Hello world\")"
   ]
  },
  {
   "cell_type": "markdown",
   "metadata": {},
   "source": [
    "We can execute the same code we did in the python file example shown earlier! The difference is, we can now have different chunks of code in different \"cells\", each cell showing us it's own output/visualizations.\n",
    "\n",
    "\n",
    "You can add, create, or delete code cells of your own!"
   ]
  },
  {
   "cell_type": "code",
   "execution_count": null,
   "metadata": {},
   "outputs": [],
   "source": [
    "name = 'rohan'\n",
    "print(\"Hello there,\", name)"
   ]
  },
  {
   "cell_type": "markdown",
   "metadata": {},
   "source": [
    "# About programming languages and python\n",
    "\n",
    "There are broadly two types of programming languages:\n",
    "- Compiled languages\n",
    "- Interpreted languages\n",
    "\n",
    "### Compiled languages\n",
    "- Have a \"complilation step\" you have to do before you can run your program.\n",
    "- Turns your code in to machine-specific binary (0's and 1's) \n",
    "- `C`, `Rust`, etc\n",
    "\n",
    "![](https://raw.githubusercontent.com/RohanGautam/intro-to-python-workshop/master/assets/compiled-language-flow.png)\n",
    "\n",
    "Note, the complied code is the platform-specific part here.\n",
    "\n",
    "### Interpreted languages\n",
    "- Run your code in a platform specific interpreter - which is a runtime that makes sense of the code you wrote and knows how to execute it\n",
    "- Doesn't actually convert your source code into machine code. Your code is run by another program, not the target machine directly. The program running the code is what interacts with the machine.\n",
    "- This \"program\" that runs your code is called the \"interpreter\"\n",
    "- `Python`, `CLIST`, etc\n",
    "\n",
    "![](https://raw.githubusercontent.com/RohanGautam/intro-to-python-workshop/master/assets/interpreted-language-flow.png)\n",
    "\n",
    "\n",
    "> There are languages that can be considered both compiled and interpreted. `Java` is a notable example, as Java source code is first converted into _binary_ bytecode, byt instead of being run on the target machine directly, it runs on the Java Virtual Machine (JVM), which can be considered a software-based interpreter.\n",
    "\n",
    "### Python\n",
    "Code is converted to a platform-independant bytecode (which is an intermediate representation, not as specific as binary), which is then run by the python interpreter."
   ]
  },
  {
   "cell_type": "markdown",
   "metadata": {},
   "source": [
    "## Python syntax!"
   ]
  },
  {
   "cell_type": "markdown",
   "metadata": {},
   "source": [
    "Let's begin with variables. They hold a value. The values can be numbers, strings, lists, and so on. We'll cover strings, lists, etc in a bit!"
   ]
  },
  {
   "cell_type": "code",
   "execution_count": null,
   "metadata": {},
   "outputs": [],
   "source": [
    "# `=` here assigns \"abcxyz\" to the variable `name`\n",
    "\n",
    "name = \"abcxyz\" # feel free to enter your own name!\n",
    "name"
   ]
  },
  {
   "cell_type": "code",
   "execution_count": null,
   "metadata": {},
   "outputs": [],
   "source": [
    "#In python, Variable names have to begin with an alphabet or an underscore (_). They can contain numbers, but no other symbols.\n",
    "hello = 43 # okay\n",
    "_num = 12 # okay\n",
    "\n",
    "bling$ = 5 # nope\n"
   ]
  },
  {
   "cell_type": "code",
   "execution_count": null,
   "metadata": {},
   "outputs": [],
   "source": [
    "# python also has reserved words, and these are names for builtin utilities.\n",
    "# You shouldnt assign a value to them, as they will mess up their functionality\n",
    "\n",
    "\n",
    "# print = 5  # Dont do this!!"
   ]
  },
  {
   "cell_type": "code",
   "execution_count": null,
   "metadata": {},
   "outputs": [],
   "source": [
    "# Feel free to experiment with variables in this cell! Just click, remove the comment and add your own code."
   ]
  },
  {
   "cell_type": "markdown",
   "metadata": {},
   "source": [
    "### Types\n",
    "Python is dynamically typed, which means that the type of a variable is not fixed, and the interpreter evaluates it at runtime.\n",
    "\n",
    "Complied languages, like rust, require type declarations like so:\n",
    "```rust\n",
    "let x : i32 = 3;\n",
    "```\n",
    "\n",
    "This is not the case with python! Let's try it out below."
   ]
  },
  {
   "cell_type": "code",
   "execution_count": null,
   "metadata": {},
   "outputs": [],
   "source": [
    "x = 4\n",
    "type(x) # this is a builtin function we can use to check a variable type. "
   ]
  },
  {
   "cell_type": "code",
   "execution_count": null,
   "metadata": {},
   "outputs": [],
   "source": [
    "x = 5\n",
    "print(type(x))\n",
    "x = \"hello\"\n",
    "print(type(x)) # the type of `x` can be changed! (it cal hold different types of values in different parts of the program)\n"
   ]
  },
  {
   "cell_type": "code",
   "execution_count": null,
   "metadata": {},
   "outputs": [],
   "source": [
    "# because of this, it's helpful to give variables sensible names while using python\n",
    "num = 4\n",
    "nums = [1,2,3,4] # many numbers, stored in a \"list\". We'll see what a list is in the next section!"
   ]
  },
  {
   "cell_type": "markdown",
   "metadata": {},
   "source": [
    "### Functions\n",
    "\n",
    "- Functions are structures that take can in an input and produce an output.\n",
    "- They are very useful in implementing reusable code.\n",
    "- Not specific to python!\n",
    "\n",
    "\n",
    "They can be **builtin** or **user defined**. Additionaly, they can also be _imported_ from libraries.\n",
    "\n"
   ]
  },
  {
   "cell_type": "code",
   "execution_count": null,
   "metadata": {},
   "outputs": [],
   "source": [
    "# builtin functions are ... built in\n",
    "print(type(4)) # `print`, `type` are functions\n",
    "len('hello') # len is also a builtin function. \n",
    "\n",
    "# we will see more builtin functions as and when the use for them arises. That way, we can learn them with context."
   ]
  },
  {
   "cell_type": "code",
   "execution_count": null,
   "metadata": {},
   "outputs": [],
   "source": [
    "def custom_function():\n",
    "\tprint(\"Hello there\") # note the indentation\n",
    "\n",
    "\n",
    "custom_function()"
   ]
  },
  {
   "cell_type": "code",
   "execution_count": null,
   "metadata": {},
   "outputs": [],
   "source": [
    "# `name` is an input to our function\n",
    "def custom_function(name):\n",
    "\tprint(\"Hello there,\", name, \"nice to meet you\")\n",
    "\n",
    "\n",
    "custom_function(\"Mr Bean\")"
   ]
  },
  {
   "cell_type": "code",
   "execution_count": null,
   "metadata": {},
   "outputs": [],
   "source": [
    "greeting = custom_function(\"Mr Bean\")\n",
    "print(greeting)"
   ]
  },
  {
   "cell_type": "code",
   "execution_count": null,
   "metadata": {},
   "outputs": [],
   "source": [
    "# this function `return`s a string. This means that you will have access to the returned value at the point where the function\n",
    "# was called, after the function finishes execution.\n",
    "def custom_function(name):\n",
    "\treturn \"Hello there, \"+ name+ \" nice to meet you\"\n",
    "\n",
    "\n",
    "greeting = custom_function(\"Mr Bean\")\n",
    "print(greeting)"
   ]
  },
  {
   "cell_type": "markdown",
   "metadata": {},
   "source": [
    "> Exercise : write a function that accepts a name as input and returns \"Sir/Madam\" followed by the name. Also, call the function!\t"
   ]
  },
  {
   "cell_type": "code",
   "execution_count": null,
   "metadata": {},
   "outputs": [],
   "source": []
  },
  {
   "cell_type": "markdown",
   "metadata": {},
   "source": [
    "That was a brief taste of functions we can define! We'll use them more in exercises down the road.\n",
    "### Imports\n",
    "- You can access code from another library/module in python by the process of `import`ing it.\n",
    "- This is useful, because we can reuse code and functionality, instead of reinventing the wheel. Like mentioned earlier, python's library support is also one of the main reasons for it's popularity."
   ]
  },
  {
   "cell_type": "code",
   "execution_count": null,
   "metadata": {},
   "outputs": [],
   "source": [
    "import math # builtin library for a lot of math operations\n",
    "\n",
    "# We can access it's members by using the <library name>.<member name> format\n",
    "\n",
    "print(math.pi) # `math.pi` is a constant in the math library.\n",
    "print(math.sqrt(2)) # `math.sqrt` is a function"
   ]
  },
  {
   "cell_type": "code",
   "execution_count": null,
   "metadata": {},
   "outputs": [],
   "source": [
    "# You can also import the members directly and use it without the `math.` prefix\n",
    "from math import pi, sqrt\n",
    "\n",
    "print(pi)\n",
    "print(sqrt(2))\n",
    "\n",
    "\n",
    "# another option is to import all members from the library like so:\n",
    "# from math import *\n",
    "\n",
    "# but we will not go too into it as it's not a recommended way to import things."
   ]
  },
  {
   "cell_type": "markdown",
   "metadata": {},
   "source": [
    "Let's take a look at a situation where it makes a lot of sense to use libraries!"
   ]
  },
  {
   "cell_type": "code",
   "execution_count": null,
   "metadata": {},
   "outputs": [],
   "source": [
    "import matplotlib.pyplot as plt # you can also rename a module while importing it!\n",
    "import numpy as np # just for convinience\n",
    "\n",
    "# Data for plotting\n",
    "t = np.arange(0.0, 2.0, 0.01)\n",
    "s = 1 + np.sin(2 * np.pi * t)\n",
    "\n",
    "fig, ax = plt.subplots()\n",
    "ax.plot(t, s)\n",
    "\n",
    "ax.set(xlabel='time (s)', ylabel='voltage (mV)',\n",
    "       title='Sample plot')\n",
    "ax.grid()\n"
   ]
  },
  {
   "cell_type": "markdown",
   "metadata": {},
   "source": [
    "### The `help()` keyword and documentation\n",
    "Aside from the online documentation on the official [python website](https://docs.python.org/3/), you can also use the `help()` keyword! \n",
    "\n",
    "Note that only funtions/properties that the authors have documented (via [docstrings](https://www.programiz.com/python-programming/docstrings)) will show up. Most popular libraries are well documented."
   ]
  },
  {
   "cell_type": "code",
   "execution_count": null,
   "metadata": {},
   "outputs": [],
   "source": [
    "from numpy import arctan\n",
    "help(arctan)"
   ]
  },
  {
   "cell_type": "markdown",
   "metadata": {},
   "source": []
  },
  {
   "cell_type": "code",
   "execution_count": null,
   "metadata": {},
   "outputs": [],
   "source": [
    "?arctan # only inside jupyter notebooks"
   ]
  },
  {
   "cell_type": "markdown",
   "metadata": {},
   "source": [
    "## Programming in python\n",
    "Now that we have touched on some syntax and basics, let's introduce some more infinity stones to our programming gauntlet. These will be :\n",
    "- Control flow - Repitition and conditions\n",
    "- Data structures"
   ]
  },
  {
   "cell_type": "markdown",
   "metadata": {},
   "source": [
    "### Control flow\n",
    "#### Repitition with `for` and `while`\n"
   ]
  },
  {
   "cell_type": "code",
   "execution_count": null,
   "metadata": {},
   "outputs": [],
   "source": [
    "# Structures that allow us to \"loop\" can be very useful in writing code.\n",
    "print(\"hi 1\")\n",
    "print(\"hi 2\")\n",
    "print(\"hi 3\")\n",
    "print(\"hi 4\")\n",
    "print(\"hi 5\")\n",
    "\n",
    "print(\"----------\")\n",
    "# or,\n",
    "for i in range(5):\n",
    "\tprint(\"hi\",i)"
   ]
  },
  {
   "cell_type": "code",
   "execution_count": null,
   "metadata": {},
   "outputs": [],
   "source": [
    "print(range(5))\n",
    "print(list(range(5)))"
   ]
  },
  {
   "cell_type": "markdown",
   "metadata": {},
   "source": [
    "`for` loops are very powerful in python, as they can go through any \"sequence\" - be it a string, list, or a range, like in the example above"
   ]
  },
  {
   "cell_type": "code",
   "execution_count": null,
   "metadata": {},
   "outputs": [],
   "source": [
    "for fruit in ['apple', 'banana', 'mango']:\n",
    "\tprint(\"I like\", fruit)"
   ]
  },
  {
   "cell_type": "code",
   "execution_count": null,
   "metadata": {},
   "outputs": [],
   "source": [
    "# can even iterate/go through strings!\n",
    "for character in \"beans\":\n",
    "\tprint(character)"
   ]
  },
  {
   "cell_type": "code",
   "execution_count": null,
   "metadata": {},
   "outputs": [],
   "source": [
    "# Exercise:\n",
    "# Print your name 10 times"
   ]
  },
  {
   "cell_type": "code",
   "execution_count": null,
   "metadata": {},
   "outputs": [],
   "source": [
    "# Exercise\n",
    "letters = ['a', 'b', 'c', 'd', 'e', 'f', 'g', 'h', 'i', 'j', 'k', 'l', 'm', 'n']\n",
    "# for all the letters above, print \"This letter is <letter>\" on each line\n",
    "# Example output:\n",
    "# This letter is a\n",
    "# This letter is b\n",
    "# This letter is c\n",
    "# .... and so on\n"
   ]
  },
  {
   "cell_type": "code",
   "execution_count": null,
   "metadata": {},
   "outputs": [],
   "source": [
    "# Self exploration \n",
    "# while loops - execute code within it as long as a condition is true\n",
    "# Look into the `break` statement too\n",
    "# Here's a resource! > https://www.w3schools.com/python/python_while_loops.asp\n",
    "n = 1\n",
    "while n<10:\n",
    "\tprint(\"hi\")\n",
    "\tn = n+1\n"
   ]
  },
  {
   "cell_type": "markdown",
   "metadata": {},
   "source": [
    "#### Conditions with `if`\n",
    "This is fairly intuitive to understand, so we'll look at some examples right away"
   ]
  },
  {
   "cell_type": "code",
   "execution_count": null,
   "metadata": {},
   "outputs": [],
   "source": [
    "n = 10\n",
    "if n == 10:\n",
    "\tprint(\"Hey this number is 10\")\n",
    "else :\n",
    "\tprint(\"I don't like any other numbers\")"
   ]
  },
  {
   "cell_type": "code",
   "execution_count": null,
   "metadata": {},
   "outputs": [],
   "source": [
    "# The `==` operator in python compares the statements on both it's sides and gives us a `True` or `False` value\n",
    "print(43 == 34) # nope\n",
    "print(\"hello\" == \"Hello\") # nope\n",
    "print(len(\"hi\") == 2) # yep"
   ]
  },
  {
   "cell_type": "code",
   "execution_count": null,
   "metadata": {},
   "outputs": [],
   "source": [
    "# We can have multiple structures, and even nest conditions inside each other!\n",
    "n = 10\n",
    "if n>=10:\n",
    "\tif n>20:\n",
    "\t\tprint(\"more than 20\")\n",
    "\telse:\n",
    "\t\tprint('more than or equal to 10,  less than 20')\n",
    "else:\n",
    "\tprint('less than 10')"
   ]
  },
  {
   "cell_type": "code",
   "execution_count": null,
   "metadata": {},
   "outputs": [],
   "source": [
    "# elif stands for \"else if\"\n",
    "n = 11\n",
    "if n == 10:\n",
    "\tprint(\"Hey this number is 10\")\n",
    "elif n == 11:\n",
    "\tprint(\"Hey this number is 11\")\n",
    "else :\n",
    "\tprint(\"I don't like any other numbers\")"
   ]
  },
  {
   "cell_type": "code",
   "execution_count": null,
   "metadata": {},
   "outputs": [],
   "source": [
    "# Exercise\n",
    "nums = [1, 2, 23, 6, 6, 17, 8, 8, 9, 2, 21, 2]\n",
    "# loop  through the numbers and print \"apple\" if the number is more than 7 and \"banana\" otherwise."
   ]
  },
  {
   "cell_type": "code",
   "execution_count": null,
   "metadata": {},
   "outputs": [],
   "source": [
    "strings = ['abc', 'abcde', 'ab', 'fvfv', 'tall', 'beans', 'apples']\n",
    "# loop through the strings and print \"Too short\" if the length of the string is less than 5, print \"okay\" otherwise\n",
    "# hint : len(str) gives you the length of the string, ie, how many characters it has"
   ]
  },
  {
   "cell_type": "markdown",
   "metadata": {},
   "source": [
    "### Data structures\n",
    "A data structure is a data organization, management, and storage format that enables efficient access and modification."
   ]
  },
  {
   "cell_type": "code",
   "execution_count": null,
   "metadata": {},
   "outputs": [],
   "source": [
    "x1 = 2\n",
    "x2 = 4\n",
    "x3 = 9\n",
    "\n",
    "# you'd much rather\n",
    "nums = [2, 4, 9] # this is a 'list'\n"
   ]
  },
  {
   "cell_type": "markdown",
   "metadata": {},
   "source": [
    "#### `str`ings"
   ]
  },
  {
   "cell_type": "code",
   "execution_count": null,
   "metadata": {},
   "outputs": [],
   "source": [
    "#  In python, strings can be defined with single quotes or double quotes.\n",
    "s1 = \"hello\"\n",
    "s2 = 'hello'\n",
    "s1==s2"
   ]
  },
  {
   "cell_type": "code",
   "execution_count": null,
   "metadata": {},
   "outputs": [],
   "source": [
    "# Made up of characters, whoch we can accesd using the indexing notation - with square brackets\n",
    "# string : h e l l o\n",
    "# index  : 0 1 2 3 4 \n",
    "\n",
    "s1[3]"
   ]
  },
  {
   "cell_type": "code",
   "execution_count": null,
   "metadata": {},
   "outputs": [],
   "source": [
    "# Strings are immutable - the original string cannot be changed\n",
    "s1[3] = 'x' # can we replace the 4th (index 3) letter?"
   ]
  },
  {
   "cell_type": "code",
   "execution_count": null,
   "metadata": {},
   "outputs": [],
   "source": [
    "# strings can be added using the '+' operator\n",
    "\n",
    "s1 + s2 # no new string is created, but a new one is returned"
   ]
  },
  {
   "cell_type": "code",
   "execution_count": null,
   "metadata": {},
   "outputs": [],
   "source": [
    "# they can be repeated using the multiplication (*) operator\n",
    "s1*4"
   ]
  },
  {
   "cell_type": "code",
   "execution_count": null,
   "metadata": {},
   "outputs": [],
   "source": [
    "len(s1) # we have used this before - gives us the number of characters in the string - starting from 1"
   ]
  },
  {
   "cell_type": "code",
   "execution_count": null,
   "metadata": {},
   "outputs": [],
   "source": [
    "# There are special characters that represent newlines and tab spaces\n",
    "print(\"He is\\ncrazzy\")"
   ]
  },
  {
   "cell_type": "code",
   "execution_count": null,
   "metadata": {},
   "outputs": [],
   "source": [
    "print(\"He is \\tcrazzy\")"
   ]
  },
  {
   "cell_type": "markdown",
   "metadata": {},
   "source": [
    "#### String methods\n",
    "Methods are like functions, but they run \"on\" an object they are called through. Let's look at a few!\n",
    "-    `s.lower()`, `s.upper()` -- returns the lowercase or uppercase version of the string\n",
    "-    `s.isalpha()`/`s.isdigit()`/`s.isspace()`... -- tests if all the string chars are in the various character classes\n",
    "-    `s.startswith('other')`, `s.endswith('other')` -- tests if the string starts or ends with the given other string\n",
    "-    `s.split('delim')` -- returns a list of substrings separated by the given delimiter.  'aaa,bbb,ccc'.split(',') -> ['aaa', 'bbb', 'ccc']. As a convenient special case s.split() (with no arguments) splits on all whitespace chars.\n",
    "-    `s.join(list)` -- opposite of split(), joins the elements in the given list together using the string as the delimiter. e.g. '---'.join(['aaa', 'bbb', 'ccc']) -> aaa---bbb---ccc\n"
   ]
  },
  {
   "cell_type": "code",
   "execution_count": null,
   "metadata": {},
   "outputs": [],
   "source": [
    "s = \"hello\""
   ]
  },
  {
   "cell_type": "code",
   "execution_count": null,
   "metadata": {},
   "outputs": [],
   "source": [
    "s.upper()"
   ]
  },
  {
   "cell_type": "code",
   "execution_count": null,
   "metadata": {},
   "outputs": [],
   "source": [
    "s.isdigit()"
   ]
  },
  {
   "cell_type": "code",
   "execution_count": null,
   "metadata": {},
   "outputs": [],
   "source": [
    "s.startswith(\"hell\")"
   ]
  },
  {
   "cell_type": "code",
   "execution_count": null,
   "metadata": {},
   "outputs": [],
   "source": [
    "print(s.split('e'))\n",
    "print(\"a,b,c,d,e\".split(','))"
   ]
  },
  {
   "cell_type": "code",
   "execution_count": null,
   "metadata": {},
   "outputs": [],
   "source": [
    "'--'.join(['a', 'b', 'c', 'd', 'e'])"
   ]
  },
  {
   "cell_type": "markdown",
   "metadata": {},
   "source": [
    "A google search for \"python str\" should lead you to the official python.org string methods which lists all the `str` methods.\n",
    "\n",
    "Let's try out some exercises! "
   ]
  },
  {
   "cell_type": "code",
   "execution_count": null,
   "metadata": {},
   "outputs": [],
   "source": [
    "# Exercise 1\n",
    "s = \"h-e-l-l-o\"\n",
    "# Can you convert this to \"h*e*l*l*o\" using the string methods above?"
   ]
  },
  {
   "cell_type": "code",
   "execution_count": null,
   "metadata": {},
   "outputs": [],
   "source": [
    "# Exercise two\n",
    "s = \"abc4224xyz\"\n",
    "# can you make a string that is a combination of the first two characters and the last two characters of `s`?\n",
    "# (you can assume the string length will be more than 4 always)\n",
    "# Here, the expected output is \"abyz\""
   ]
  },
  {
   "cell_type": "code",
   "execution_count": null,
   "metadata": {},
   "outputs": [],
   "source": [
    "# Exercise 3\n",
    "# Write a function `moo_function` that takes in a string.\n",
    "# if the string starts with \"cow\", return \"mooo\"\n",
    "# otherwise, return \"meh\". Call the function with different strings.\n",
    "\n",
    "# Expected function behaviour\n",
    "# moo_function(\"cowboy\") -> \"mooo\"\n",
    "# moo_function(\"notacowboy\") -> \"meh\"\n",
    "\n",
    "def moo_function(s):\n",
    "\tpass # remove this line and replace with your code\n"
   ]
  },
  {
   "cell_type": "markdown",
   "metadata": {},
   "source": [
    "#### Lists\n",
    "\n",
    "Lists are so useful and integral to using python, that we've used it before already in this very tutorial!\n",
    "\n",
    "To put it plainly, they store multiple items in the same variable. Some examples are below:"
   ]
  },
  {
   "cell_type": "code",
   "execution_count": null,
   "metadata": {},
   "outputs": [],
   "source": [
    "# lists are created using square brackets\n",
    "\n",
    "l = [1, 2, 3, 4, 5] # a list of integers (numbers)\n",
    "l = ['hi', 'my', 'nose', 'is', 'broken']\n",
    "l = [1, 'a', 2, [1,2] , 'hi'] # can contain multiple types of data - numbers, strings, and even nested lists! (among many others)"
   ]
  },
  {
   "cell_type": "code",
   "execution_count": null,
   "metadata": {},
   "outputs": [],
   "source": [
    "# they are indexed similarly to strings. 0 being the first element, 1 being the second and so on.\n",
    "l[1]"
   ]
  },
  {
   "cell_type": "markdown",
   "metadata": {},
   "source": [
    "Lists are **mutable** , ie, you can change their values in place"
   ]
  },
  {
   "cell_type": "code",
   "execution_count": null,
   "metadata": {},
   "outputs": [],
   "source": [
    "l = [1,2,3,4,5]\n",
    "l[1] = 'hello there'\n",
    "l"
   ]
  },
  {
   "cell_type": "code",
   "execution_count": null,
   "metadata": {},
   "outputs": [],
   "source": [
    "# like strings, their length can be determined using len():\n",
    "len(l)"
   ]
  },
  {
   "cell_type": "markdown",
   "metadata": {},
   "source": [
    "Adding and removing items to a list is something that we do quite often. Let's see how to do that!"
   ]
  },
  {
   "cell_type": "code",
   "execution_count": null,
   "metadata": {},
   "outputs": [],
   "source": [
    "l = list(range(5)) # [0,1,2,3,4]\n",
    "print(l)\n",
    "l.append(5) # append is how we add things\n",
    "print(l)"
   ]
  },
  {
   "cell_type": "code",
   "execution_count": null,
   "metadata": {},
   "outputs": [],
   "source": [
    "## Self exploration - removing things from the list. Don't worry, we don't have these in the exercises!\n",
    "# - Removing the first occourance of a value with `.remove()`\n",
    "# - Removing based on the index with `.pop()`\n",
    "# - Empty the list with `.clear()`\n",
    "\n",
    "# Resource to check out : https://www.w3schools.com/python/python_lists_remove.asp"
   ]
  },
  {
   "cell_type": "code",
   "execution_count": null,
   "metadata": {},
   "outputs": [],
   "source": [
    "# Exercise\n",
    "fruits = [\"apple\", \"banana\", \"cherry\"]\n",
    "# Change the value from \"apple\" to \"kiwi\", in the `fruits` list."
   ]
  },
  {
   "cell_type": "code",
   "execution_count": null,
   "metadata": {},
   "outputs": [],
   "source": [
    "# Exercise\n",
    "fruits = [\"apple\", \"banana\", \"cherry\"]\n",
    "# print the last element of this list"
   ]
  },
  {
   "cell_type": "code",
   "execution_count": null,
   "metadata": {},
   "outputs": [],
   "source": [
    "# Self exploration exercise\n",
    "# Create a list of even numbers from 1 to 100\n",
    "# - initialize an empty list (hint, it's just this : [])\n",
    "# - Loop through numbers from 0 to 100 (hint, use the `range` function)\n",
    "# - If it's even, add it to the list (hint, use the modulus operator in python to check if it's even or odd)\n",
    "\n",
    "# For a further challenge, create a list of prime numbers from 1 to 100. \n",
    "# Give it your best shot and don't shy away from googling and learning from solutions you come across! \n",
    "# Exploring problems you don't know how to approach and figuring it out is a rewarding feeling."
   ]
  }
 ],
 "metadata": {
  "interpreter": {
   "hash": "ff75702022558467f9e376a4c7496a2e334bac142e56183f74be88028678ac45"
  },
  "kernelspec": {
   "display_name": "Python 3 (ipykernel)",
   "language": "python",
   "name": "python3"
  },
  "language_info": {
   "codemirror_mode": {
    "name": "ipython",
    "version": 3
   },
   "file_extension": ".py",
   "mimetype": "text/x-python",
   "name": "python",
   "nbconvert_exporter": "python",
   "pygments_lexer": "ipython3",
   "version": "3.7.10"
  }
 },
 "nbformat": 4,
 "nbformat_minor": 2
}
