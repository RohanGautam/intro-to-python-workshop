{
 "metadata": {
  "language_info": {
   "codemirror_mode": {
    "name": "ipython",
    "version": 3
   },
   "file_extension": ".py",
   "mimetype": "text/x-python",
   "name": "python",
   "nbconvert_exporter": "python",
   "pygments_lexer": "ipython3",
   "version": "3.7.10"
  },
  "orig_nbformat": 4,
  "kernelspec": {
   "name": "python3",
   "display_name": "Python 3.7.10 64-bit ('torch-book': conda)"
  },
  "interpreter": {
   "hash": "ff75702022558467f9e376a4c7496a2e334bac142e56183f74be88028678ac45"
  }
 },
 "nbformat": 4,
 "nbformat_minor": 2,
 "cells": [
  {
   "cell_type": "markdown",
   "source": [
    "# Introduction to python\n",
    "\n",
    "Hello, all! What you see in front of you is a python notebook, also referred to as a \"jupyter notebook\". The notebook interface for python was made by [project jupyter](https://jupyter.org/), and is a super popular way to write and share python code."
   ],
   "metadata": {}
  },
  {
   "cell_type": "markdown",
   "source": [
    "This interface runs in your web browser and allows a lot of things in one document - equations, images, visualisations, explanations, and of course, code."
   ],
   "metadata": {}
  },
  {
   "cell_type": "markdown",
   "source": [
    "Check out these equations- written in MathJax, a subset of LaTeX. \n",
    "\n",
    "\\begin{align}\n",
    "\\dot{x} & = \\sigma(y-x) \\\\\n",
    "\\dot{y} & = \\rho x - y - xz \\\\\n",
    "\\dot{z} & = -\\beta z + xy\n",
    "\\end{align}\n"
   ],
   "metadata": {}
  },
  {
   "cell_type": "markdown",
   "source": [
    "And images!\n",
    "\n",
    "\n",
    "![](../assets/intro-to-python.png)"
   ],
   "metadata": {}
  },
  {
   "cell_type": "code",
   "execution_count": 5,
   "source": [
    "# this is a comment - it's for you to document your code to make it understandable for your\n",
    "# future self and for others. Don't worry, it's ignored by the python interpreter!\n",
    "\n",
    "# the print function\n",
    "print(\"Hello world\")"
   ],
   "outputs": [
    {
     "output_type": "stream",
     "name": "stdout",
     "text": [
      "Hello world\n"
     ]
    }
   ],
   "metadata": {}
  },
  {
   "cell_type": "markdown",
   "source": [
    "We can execute the same code we did in the python file example shown earlier! The difference is, we can now have different chunks of code in different \"cells\", each cell showing us it's own output/visualizations.\n",
    "\n",
    "\n",
    "You can add, create, or delete code cells of your own!"
   ],
   "metadata": {}
  },
  {
   "cell_type": "code",
   "execution_count": 6,
   "source": [
    "name = 'rohan'\n",
    "print(\"Hello there,\", name)"
   ],
   "outputs": [
    {
     "output_type": "stream",
     "name": "stdout",
     "text": [
      "Hello there, rohan\n"
     ]
    }
   ],
   "metadata": {}
  },
  {
   "cell_type": "markdown",
   "source": [
    "# About programming languages and python\n",
    "\n",
    "There are broadly two types of programming languages:\n",
    "- Compiled languages\n",
    "- Interpreted languages\n",
    "\n",
    "### Compiled languages\n",
    "- Have a \"complilation step\" you have to do before you can run your program.\n",
    "- Turns your code in to machine-specific binary (0's and 1's) \n",
    "- `C`, `Rust`, etc\n",
    "\n",
    "![](../assets/complied-language-flow.png)\n",
    "\n",
    "Note, the complied code is the platform-specific part here.\n",
    "\n",
    "### Interpreted languages\n",
    "- Run your code in a platform specific interpreter - which is a runtime that makes sense of the code you wrote and knows how to execute it\n",
    "- Doesn't actually convert your source code into machine code. Your code is run by another program, not the target machine directly. The program running the code is what interacts with the machine.\n",
    "- This \"program\" that runs your code is called the \"interpreter\"\n",
    "- `Python`, `CLIST`, etc\n",
    "\n",
    "![](../assets/interpreted-language-flow.png)\n",
    "\n",
    "\n",
    "> There are languages that can be considered both compiled and interpreted. `Java` is a notable example, as Java source code is first converted into _binary_ bytecode, byt instead of being run on the target machine directly, it runs on the Java Virtual Machine (JVM), which can be considered a software-based interpreter.\n",
    "\n",
    "### Python\n",
    "Code is converted to a platform-independant bytecode (which is an intermediate representation, not as specific as binary), which is then run by the python interpreter."
   ],
   "metadata": {}
  },
  {
   "cell_type": "markdown",
   "source": [
    "## Python syntax!"
   ],
   "metadata": {}
  },
  {
   "cell_type": "markdown",
   "source": [
    "Let's begin with variables. They hold a value. The values can be numbers, strings, lists, and so on. We'll cover strings, lists, etc in a bit!"
   ],
   "metadata": {}
  },
  {
   "cell_type": "code",
   "execution_count": 7,
   "source": [
    "# `=` here assigns \"abcxyz\" to the variable `name`\n",
    "\n",
    "name = \"abcxyz\" # feel free to enter your own name!\n",
    "name"
   ],
   "outputs": [
    {
     "output_type": "execute_result",
     "data": {
      "text/plain": [
       "'abcxyz'"
      ]
     },
     "metadata": {},
     "execution_count": 7
    }
   ],
   "metadata": {}
  },
  {
   "cell_type": "code",
   "execution_count": 8,
   "source": [
    "#In python, Variable names have to begin with an alphabet or an underscore (_). They can contain numbers, but no other symbols.\n",
    "hello = 43 # okay\n",
    "_num = 12 # okay\n",
    "\n",
    "bling$ = 5 # nope\n"
   ],
   "outputs": [
    {
     "output_type": "error",
     "ename": "SyntaxError",
     "evalue": "invalid syntax (451995768.py, line 5)",
     "traceback": [
      "\u001b[0;36m  File \u001b[0;32m\"/tmp/ipykernel_110278/451995768.py\"\u001b[0;36m, line \u001b[0;32m5\u001b[0m\n\u001b[0;31m    bling$ = 5 # nope\u001b[0m\n\u001b[0m         ^\u001b[0m\n\u001b[0;31mSyntaxError\u001b[0m\u001b[0;31m:\u001b[0m invalid syntax\n"
     ]
    }
   ],
   "metadata": {}
  },
  {
   "cell_type": "code",
   "execution_count": null,
   "source": [
    "# python also has reserved words, and these are names for builting utilities.\n",
    "# You shouldnt assign a value to them, as they will mess up their functionality\n",
    "\n",
    "\n",
    "# print = 5  # Dont do this!!"
   ],
   "outputs": [],
   "metadata": {}
  },
  {
   "cell_type": "code",
   "execution_count": null,
   "source": [
    "# Feel free to experiment with variables in this cell! Just click, remove the comment and add your own code."
   ],
   "outputs": [],
   "metadata": {}
  },
  {
   "cell_type": "markdown",
   "source": [
    "### Types\n",
    "Python is dynamically typed, which means that the type of a variable is not fixed, and the interpreter evaluates it at runtime.\n",
    "\n",
    "Complied languages, like rust, require type declarations like so:\n",
    "```rust\n",
    "let x : i32 = 3;\n",
    "```\n",
    "\n",
    "This is not the case with python! Let's try it out below."
   ],
   "metadata": {}
  },
  {
   "cell_type": "code",
   "execution_count": null,
   "source": [
    "x = 4\n",
    "type(x) # this is a builtin function we can use to check a variable type. "
   ],
   "outputs": [
    {
     "output_type": "execute_result",
     "data": {
      "text/plain": [
       "int"
      ]
     },
     "metadata": {},
     "execution_count": 6
    }
   ],
   "metadata": {}
  },
  {
   "cell_type": "code",
   "execution_count": null,
   "source": [
    "x = 5\n",
    "print(type(x))\n",
    "x = \"hello\"\n",
    "print(type(x)) # the type of `x` can be changed! (it cal hold different types of values in different parts of the program)\n"
   ],
   "outputs": [
    {
     "output_type": "stream",
     "name": "stdout",
     "text": [
      "<class 'int'>\n",
      "<class 'str'>\n"
     ]
    }
   ],
   "metadata": {}
  },
  {
   "cell_type": "code",
   "execution_count": null,
   "source": [
    "# because of this, it's helpful to give variables sensible names while using python\n",
    "num = 4\n",
    "nums = [1,2,3,4] # many numbers, stored in a \"list\". We'll see what a list is in the next section!"
   ],
   "outputs": [],
   "metadata": {}
  },
  {
   "cell_type": "markdown",
   "source": [
    "### Functions\n",
    "\n",
    "- Functions are structures that take can in an input and produce an output.\n",
    "- They are very useful in implementing reusable code.\n",
    "- Not specific to python!\n",
    "\n",
    "\n",
    "They can be **builtin** or **user defined**. Additionaly, they can also be _imported_ from libraries.\n",
    "\n"
   ],
   "metadata": {}
  },
  {
   "cell_type": "code",
   "execution_count": null,
   "source": [
    "# builtin functions are ... built in\n",
    "print(type(4)) # `print`, `type` are functions\n",
    "len('hello') # len is also a builtin function. \n",
    "\n",
    "# we will see more builtin functions as and when the use for them arises. That way, we can learn them with context."
   ],
   "outputs": [
    {
     "output_type": "stream",
     "name": "stdout",
     "text": [
      "<class 'int'>\n"
     ]
    },
    {
     "output_type": "execute_result",
     "data": {
      "text/plain": [
       "5"
      ]
     },
     "metadata": {},
     "execution_count": 12
    }
   ],
   "metadata": {}
  },
  {
   "cell_type": "code",
   "execution_count": null,
   "source": [
    "def custom_function():\n",
    "\tprint(\"Hello there\") # note the indentation\n",
    "\n",
    "\n",
    "custom_function()"
   ],
   "outputs": [
    {
     "output_type": "stream",
     "name": "stdout",
     "text": [
      "Hello there\n"
     ]
    }
   ],
   "metadata": {}
  },
  {
   "cell_type": "code",
   "execution_count": null,
   "source": [
    "# `name` is an input to our function\n",
    "def custom_function(name):\n",
    "\tprint(\"Hello there,\", name, \"nice to meet you\")\n",
    "\n",
    "\n",
    "custom_function(\"Mr Bean\")"
   ],
   "outputs": [
    {
     "output_type": "stream",
     "name": "stdout",
     "text": [
      "Hello there, Mr Bean nice to meet you\n"
     ]
    }
   ],
   "metadata": {}
  },
  {
   "cell_type": "code",
   "execution_count": null,
   "source": [
    "greeting = custom_function(\"Mr Bean\")\n",
    "print(greeting)"
   ],
   "outputs": [
    {
     "output_type": "stream",
     "name": "stdout",
     "text": [
      "Hello there, Mr Bean nice to meet you\n",
      "None\n"
     ]
    }
   ],
   "metadata": {}
  },
  {
   "cell_type": "code",
   "execution_count": null,
   "source": [
    "# this function `return`s a string. This means that you will have access to the returned value at the point where the function\n",
    "# was called, after the function finishes execution.\n",
    "def custom_function(name):\n",
    "\treturn \"Hello there, \"+ name+ \" nice to meet you\"\n",
    "\n",
    "\n",
    "greeting = custom_function(\"Mr Bean\")\n",
    "print(greeting)"
   ],
   "outputs": [
    {
     "output_type": "stream",
     "name": "stdout",
     "text": [
      "Hello there, Mr Bean nice to meet you\n"
     ]
    }
   ],
   "metadata": {}
  },
  {
   "cell_type": "markdown",
   "source": [
    "> Exercise : write a function that accepts a name as input and returns \"Sir/Madam\" followed by the name. Also, call the function!\t"
   ],
   "metadata": {}
  },
  {
   "cell_type": "code",
   "execution_count": null,
   "source": [],
   "outputs": [],
   "metadata": {}
  },
  {
   "cell_type": "markdown",
   "source": [
    "That was a breif taste of functions we can define! We'll use them more in exercises down the road.\n",
    "### Imports\n",
    "- You can access code from another library/module in python by the process of `import`ing it.\n",
    "- This is useful, because we can reuse code and functionality, instead of reinventing the wheel. Like mentioned earlier, python's library support is also one of the main reasons for it's popularity."
   ],
   "metadata": {}
  },
  {
   "cell_type": "code",
   "execution_count": 9,
   "source": [
    "import math # builtin library for a lot of math operations\n",
    "\n",
    "# We can access it's members by using the <library name>.<member name> format\n",
    "\n",
    "print(math.pi) # `math.pi` is a constant in the math library.\n",
    "print(math.sqrt(2)) # `math.sqrt` is a function"
   ],
   "outputs": [
    {
     "output_type": "stream",
     "name": "stdout",
     "text": [
      "3.141592653589793\n",
      "1.4142135623730951\n"
     ]
    }
   ],
   "metadata": {}
  },
  {
   "cell_type": "code",
   "execution_count": 11,
   "source": [
    "# You can also import the members directly and use it without the `math.` prefix\n",
    "from math import pi, sqrt\n",
    "\n",
    "print(pi)\n",
    "print(sqrt(2))\n",
    "\n",
    "\n",
    "# another option is to import all members from the library like so:\n",
    "# from math import *\n",
    "\n",
    "# but we will not go too into it as it's not a recommended way to import things."
   ],
   "outputs": [
    {
     "output_type": "stream",
     "name": "stdout",
     "text": [
      "3.141592653589793\n",
      "1.4142135623730951\n"
     ]
    }
   ],
   "metadata": {}
  },
  {
   "cell_type": "markdown",
   "source": [
    "Let's take a look at a situation where it makes a lot of sense to use libraries!"
   ],
   "metadata": {}
  },
  {
   "cell_type": "code",
   "execution_count": 12,
   "source": [
    "import matplotlib.pyplot as plt # you can also rename a module while importing it!\n",
    "import numpy as np # just for convinience\n",
    "\n",
    "# Data for plotting\n",
    "t = np.arange(0.0, 2.0, 0.01)\n",
    "s = 1 + np.sin(2 * np.pi * t)\n",
    "\n",
    "fig, ax = plt.subplots()\n",
    "ax.plot(t, s)\n",
    "\n",
    "ax.set(xlabel='time (s)', ylabel='voltage (mV)',\n",
    "       title='Sample plot')\n",
    "ax.grid()\n"
   ],
   "outputs": [
    {
     "output_type": "display_data",
     "data": {
      "text/plain": [
       "<Figure size 432x288 with 1 Axes>"
      ],
      "image/png": "[encoded data removed]"
     },
     "metadata": {
      "needs_background": "light"
     }
    }
   ],
   "metadata": {}
  },
  {
   "cell_type": "markdown",
   "source": [
    "### The `help()` keyword and documentation\n",
    "Aside from the online documentation on the official [python website](https://docs.python.org/3/), you can also use the `help()` keyword! \n",
    "\n",
    "Note that only funtions/properties that the authors have documented (via [docstrings](https://www.programiz.com/python-programming/docstrings)) will show up. Most popular libraries are well documented."
   ],
   "metadata": {}
  },
  {
   "cell_type": "code",
   "execution_count": null,
   "source": [
    "from numpy import arctan\n",
    "help(arctan)"
   ],
   "outputs": [],
   "metadata": {}
  },
  {
   "cell_type": "markdown",
   "source": [],
   "metadata": {}
  },
  {
   "cell_type": "code",
   "execution_count": null,
   "source": [
    "arctan? # only inside jupyter notebooks"
   ],
   "outputs": [],
   "metadata": {}
  },
  {
   "cell_type": "markdown",
   "source": [
    "## Programming in python\n",
    "Now that we have touched on some syntax and basics, let's introduce some more infinity stones to our programming gauntlet. These will be :\n",
    "- Control flow - Repitition and conditions\n",
    "- Data structures"
   ],
   "metadata": {}
  },
  {
   "cell_type": "markdown",
   "source": [
    "### Control flow\n",
    "#### Repitition with `for` and `while`\n"
   ],
   "metadata": {}
  },
  {
   "cell_type": "code",
   "execution_count": 44,
   "source": [
    "# Structures that allow us to \"loop\" can be very useful in writing code.\n",
    "print(\"hi 1\")\n",
    "print(\"hi 2\")\n",
    "print(\"hi 3\")\n",
    "print(\"hi 4\")\n",
    "print(\"hi 5\")\n",
    "\n",
    "print(\"----------\")\n",
    "# or,\n",
    "for i in range(5):\n",
    "\tprint(\"hi\",i)"
   ],
   "outputs": [
    {
     "output_type": "stream",
     "name": "stdout",
     "text": [
      "hi 1\n",
      "hi 2\n",
      "hi 3\n",
      "hi 4\n",
      "hi 5\n",
      "----------\n",
      "hi 0\n",
      "hi 1\n",
      "hi 2\n",
      "hi 3\n",
      "hi 4\n"
     ]
    }
   ],
   "metadata": {}
  },
  {
   "cell_type": "markdown",
   "source": [
    "`for` loops are very powerful in python, as they can go through any \"sequence\" - be it a string, list, or a range, like in the example above"
   ],
   "metadata": {}
  },
  {
   "cell_type": "code",
   "execution_count": 45,
   "source": [
    "for fruit in ['apple', 'banana', 'mango']:\n",
    "\tprint(\"I like\", fruit)"
   ],
   "outputs": [
    {
     "output_type": "stream",
     "name": "stdout",
     "text": [
      "I like apple\n",
      "I like banana\n",
      "I like mango\n"
     ]
    }
   ],
   "metadata": {}
  },
  {
   "cell_type": "code",
   "execution_count": 47,
   "source": [
    "# can even iterate/go through strings!\n",
    "for character in \"beans\":\n",
    "\tprint(character)"
   ],
   "outputs": [
    {
     "output_type": "stream",
     "name": "stdout",
     "text": [
      "b\n",
      "e\n",
      "a\n",
      "n\n",
      "s\n"
     ]
    }
   ],
   "metadata": {}
  },
  {
   "cell_type": "markdown",
   "source": [
    "### Data structures\n",
    "A data structure is a data organization, management, and storage format that enables efficient access and modification."
   ],
   "metadata": {}
  },
  {
   "cell_type": "code",
   "execution_count": 21,
   "source": [
    "x1 = 2\n",
    "x2 = 4\n",
    "x3 = 9\n",
    "\n",
    "# you'd much rather\n",
    "nums = [2, 4, 9] # this is a 'list'\n"
   ],
   "outputs": [],
   "metadata": {}
  },
  {
   "cell_type": "markdown",
   "source": [
    "#### `str`ings"
   ],
   "metadata": {}
  },
  {
   "cell_type": "code",
   "execution_count": 22,
   "source": [
    "#  In python, strings can be defined with single quotes or double quotes.\n",
    "s1 = \"hello\"\n",
    "s2 = 'hello'\n",
    "s1==s2"
   ],
   "outputs": [
    {
     "output_type": "execute_result",
     "data": {
      "text/plain": [
       "True"
      ]
     },
     "metadata": {},
     "execution_count": 22
    }
   ],
   "metadata": {}
  },
  {
   "cell_type": "code",
   "execution_count": 23,
   "source": [
    "# Made up of characters, whoch we can accesd using the indexing notation - with square brackets\n",
    "# string : h e l l o\n",
    "# index  : 0 1 2 3 4 \n",
    "\n",
    "s1[3]"
   ],
   "outputs": [
    {
     "output_type": "execute_result",
     "data": {
      "text/plain": [
       "'l'"
      ]
     },
     "metadata": {},
     "execution_count": 23
    }
   ],
   "metadata": {}
  },
  {
   "cell_type": "code",
   "execution_count": 24,
   "source": [
    "# Strings are immutable - the original string cannot be changed\n",
    "s1[3] = 'x' # can we replace the 4th (index 3) letter?"
   ],
   "outputs": [
    {
     "output_type": "error",
     "ename": "TypeError",
     "evalue": "'str' object does not support item assignment",
     "traceback": [
      "\u001b[0;31m---------------------------------------------------------------------------\u001b[0m",
      "\u001b[0;31mTypeError\u001b[0m                                 Traceback (most recent call last)",
      "\u001b[0;32m/tmp/ipykernel_110278/2848387840.py\u001b[0m in \u001b[0;36m<module>\u001b[0;34m\u001b[0m\n\u001b[1;32m      1\u001b[0m \u001b[0;31m# Strings are immutable - the original string cannot be changed\u001b[0m\u001b[0;34m\u001b[0m\u001b[0;34m\u001b[0m\u001b[0;34m\u001b[0m\u001b[0m\n\u001b[0;32m----> 2\u001b[0;31m \u001b[0ms1\u001b[0m\u001b[0;34m[\u001b[0m\u001b[0;36m3\u001b[0m\u001b[0;34m]\u001b[0m \u001b[0;34m=\u001b[0m \u001b[0;34m'x'\u001b[0m \u001b[0;31m# can we replace the 4th (index 3) letter?\u001b[0m\u001b[0;34m\u001b[0m\u001b[0;34m\u001b[0m\u001b[0m\n\u001b[0m",
      "\u001b[0;31mTypeError\u001b[0m: 'str' object does not support item assignment"
     ]
    }
   ],
   "metadata": {}
  },
  {
   "cell_type": "code",
   "execution_count": 26,
   "source": [
    "# strings can be added using the '+' operator\n",
    "\n",
    "s1 + s2 # no new string is created, but a new one is returned"
   ],
   "outputs": [
    {
     "output_type": "execute_result",
     "data": {
      "text/plain": [
       "'hellohello'"
      ]
     },
     "metadata": {},
     "execution_count": 26
    }
   ],
   "metadata": {}
  },
  {
   "cell_type": "code",
   "execution_count": 27,
   "source": [
    "# they can be repeated using the multiplication (*) operator\n",
    "s1*4"
   ],
   "outputs": [
    {
     "output_type": "execute_result",
     "data": {
      "text/plain": [
       "'hellohellohellohello'"
      ]
     },
     "metadata": {},
     "execution_count": 27
    }
   ],
   "metadata": {}
  },
  {
   "cell_type": "code",
   "execution_count": 28,
   "source": [
    "len(s1) # we have used this before - gives us the number of characters in the string - starting from 1"
   ],
   "outputs": [
    {
     "output_type": "execute_result",
     "data": {
      "text/plain": [
       "5"
      ]
     },
     "metadata": {},
     "execution_count": 28
    }
   ],
   "metadata": {}
  },
  {
   "cell_type": "code",
   "execution_count": 29,
   "source": [
    "# There are special characters that represent newlines and tab spaces\n",
    "print(\"He is\\ncrazzy\")"
   ],
   "outputs": [
    {
     "output_type": "stream",
     "name": "stdout",
     "text": [
      "He is\n",
      "crazzy\n"
     ]
    }
   ],
   "metadata": {}
  },
  {
   "cell_type": "code",
   "execution_count": 30,
   "source": [
    "print(\"He is \\tcrazzy\")"
   ],
   "outputs": [
    {
     "output_type": "stream",
     "name": "stdout",
     "text": [
      "He is \tcrazzy\n"
     ]
    }
   ],
   "metadata": {}
  },
  {
   "cell_type": "markdown",
   "source": [
    "#### String methods\n",
    "Methods are like functions, but they run \"on\" an object they are called through. Let's look at a few!\n",
    "-    `s.lower()`, `s.upper()` -- returns the lowercase or uppercase version of the string\n",
    "-    `s.isalpha()`/`s.isdigit()`/`s.isspace()`... -- tests if all the string chars are in the various character classes\n",
    "-    `s.startswith('other')`, `s.endswith('other')` -- tests if the string starts or ends with the given other string\n",
    "-    `s.split('delim')` -- returns a list of substrings separated by the given delimiter.  'aaa,bbb,ccc'.split(',') -> ['aaa', 'bbb', 'ccc']. As a convenient special case s.split() (with no arguments) splits on all whitespace chars.\n",
    "-    `s.join(list)` -- opposite of split(), joins the elements in the given list together using the string as the delimiter. e.g. '---'.join(['aaa', 'bbb', 'ccc']) -> aaa---bbb---ccc\n"
   ],
   "metadata": {}
  },
  {
   "cell_type": "code",
   "execution_count": 31,
   "source": [
    "s = \"hello\""
   ],
   "outputs": [],
   "metadata": {}
  },
  {
   "cell_type": "code",
   "execution_count": 32,
   "source": [
    "s.upper()"
   ],
   "outputs": [
    {
     "output_type": "execute_result",
     "data": {
      "text/plain": [
       "'HELLO'"
      ]
     },
     "metadata": {},
     "execution_count": 32
    }
   ],
   "metadata": {}
  },
  {
   "cell_type": "code",
   "execution_count": 33,
   "source": [
    "s.isdigit()"
   ],
   "outputs": [
    {
     "output_type": "execute_result",
     "data": {
      "text/plain": [
       "False"
      ]
     },
     "metadata": {},
     "execution_count": 33
    }
   ],
   "metadata": {}
  },
  {
   "cell_type": "code",
   "execution_count": 34,
   "source": [
    "s.startswith(\"hell\")"
   ],
   "outputs": [
    {
     "output_type": "execute_result",
     "data": {
      "text/plain": [
       "True"
      ]
     },
     "metadata": {},
     "execution_count": 34
    }
   ],
   "metadata": {}
  },
  {
   "cell_type": "code",
   "execution_count": 37,
   "source": [
    "print(s.split('e'))\n",
    "print(\"a,b,c,d,e\".split(','))"
   ],
   "outputs": [
    {
     "output_type": "stream",
     "name": "stdout",
     "text": [
      "['h', 'llo']\n",
      "['a', 'b', 'c', 'd', 'e']\n"
     ]
    }
   ],
   "metadata": {}
  },
  {
   "cell_type": "code",
   "execution_count": 39,
   "source": [
    "'--'.join(['a', 'b', 'c', 'd', 'e'])"
   ],
   "outputs": [
    {
     "output_type": "execute_result",
     "data": {
      "text/plain": [
       "'a--b--c--d--e'"
      ]
     },
     "metadata": {},
     "execution_count": 39
    }
   ],
   "metadata": {}
  },
  {
   "cell_type": "markdown",
   "source": [
    "A google search for \"python str\" should lead you to the official python.org string methods which lists all the `str` methods.\n",
    "\n",
    "Let's try out some exercises! "
   ],
   "metadata": {}
  },
  {
   "cell_type": "code",
   "execution_count": 42,
   "source": [
    "# Exercise 1\n",
    "s = \"h-e-l-l-o\"\n",
    "# Can you convert this to \"h*e*l*l*o\" using the string methods above?"
   ],
   "outputs": [],
   "metadata": {}
  },
  {
   "cell_type": "code",
   "execution_count": 43,
   "source": [
    "# Exercise two\n",
    "s = \"abc4224xyz\"\n",
    "# can you make a string that is a combination of the first two characters and the last two characters of `s`?\n",
    "# (you can assume the string length will be more than 4 always)\n",
    "# Here, the expected output is \"abyz\""
   ],
   "outputs": [],
   "metadata": {}
  },
  {
   "cell_type": "code",
   "execution_count": null,
   "source": [],
   "outputs": [],
   "metadata": {}
  }
 ]
}