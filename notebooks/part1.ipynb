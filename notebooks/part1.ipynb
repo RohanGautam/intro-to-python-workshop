{
 "metadata": {
  "language_info": {
   "codemirror_mode": {
    "name": "ipython",
    "version": 3
   },
   "file_extension": ".py",
   "mimetype": "text/x-python",
   "name": "python",
   "nbconvert_exporter": "python",
   "pygments_lexer": "ipython3",
   "version": "3.7.10"
  },
  "orig_nbformat": 4,
  "kernelspec": {
   "name": "python3",
   "display_name": "Python 3.7.10 64-bit ('torch-book': conda)"
  },
  "interpreter": {
   "hash": "ff75702022558467f9e376a4c7496a2e334bac142e56183f74be88028678ac45"
  }
 },
 "nbformat": 4,
 "nbformat_minor": 2,
 "cells": [
  {
   "cell_type": "markdown",
   "source": [
    "# Introduction to python\n",
    "\n",
    "Hello, all! What you see in front of you is a python notebook, also referred to as a \"jupyter notebook\". The notebook interface for python was made by [project jupyter](https://jupyter.org/), and is a super popular way to write and share python code."
   ],
   "metadata": {}
  },
  {
   "cell_type": "markdown",
   "source": [
    "This interface runs in your web browser and allows a lot of things in one document - equations, images, visualisations, explanations, and of course, code."
   ],
   "metadata": {}
  },
  {
   "cell_type": "markdown",
   "source": [
    "Check out these equations- written in MathJax, a subset of LaTeX. \n",
    "\n",
    "\\begin{align}\n",
    "\\dot{x} & = \\sigma(y-x) \\\\\n",
    "\\dot{y} & = \\rho x - y - xz \\\\\n",
    "\\dot{z} & = -\\beta z + xy\n",
    "\\end{align}\n"
   ],
   "metadata": {}
  },
  {
   "cell_type": "markdown",
   "source": [
    "And images!\n",
    "\n",
    "\n",
    "![](../assets/intro-to-python.png)"
   ],
   "metadata": {}
  },
  {
   "cell_type": "code",
   "execution_count": 3,
   "source": [
    "# this is a comment - it's for you to document your code to make it understandable for your\n",
    "# future self and for others. Don't worry, it's ignored by the python interpreter!\n",
    "\n",
    "# the print function\n",
    "print(\"Hello world\")"
   ],
   "outputs": [
    {
     "output_type": "stream",
     "name": "stdout",
     "text": [
      "Hello world\n"
     ]
    }
   ],
   "metadata": {}
  },
  {
   "cell_type": "markdown",
   "source": [
    "We can execute the same code we did in the python file example shown earlier! The difference is, we can now have different chunks of code in different \"cells\", each cell showing us it's own output/visualizations.\n",
    "\n",
    "\n",
    "You can add, create, or delete code cells of your own!"
   ],
   "metadata": {}
  },
  {
   "cell_type": "code",
   "execution_count": 1,
   "source": [
    "name = 'rohan'\n",
    "print(\"Hello there,\", name)"
   ],
   "outputs": [
    {
     "output_type": "stream",
     "name": "stdout",
     "text": [
      "Hello there, rohan\n"
     ]
    }
   ],
   "metadata": {}
  },
  {
   "cell_type": "markdown",
   "source": [
    "# About programming languages and python\n",
    "\n",
    "There are broadly two types of programming languages:\n",
    "- Compiled languages\n",
    "- Interpreted languages\n",
    "\n",
    "### Compiled languages\n",
    "- Have a \"complilation step\" you have to do before you can run your program.\n",
    "- Turns your code in to machine-specific binary (0's and 1's) \n",
    "- `C`, `Rust`, etc\n",
    "\n",
    "![](../assets/complied-language-flow.png)\n",
    "\n",
    "Note, the complied code is the platform-specific part here.\n",
    "\n",
    "### Interpreted languages\n",
    "- Run your code in a platform specific interpreter - which is a runtime that makes sense of the code you wrote and knows how to execute it\n",
    "- Doesn't actually convert your source code into machine code. Your code is run by another program, not the target machine directly. The program running the code is what interacts with the machine.\n",
    "- This \"program\" that runs your code is called the \"interpreter\"\n",
    "- `Python`, `CLIST`, etc\n",
    "\n",
    "![](../assets/interpreted-language-flow.png)\n",
    "\n",
    "\n",
    "> There are languages that can be considered both compiled and interpreted. `Java` is a notable example, as Java source code is first converted into _binary_ bytecode, byt instead of being run on the target machine directly, it runs on the Java Virtual Machine (JVM), which can be considered a software-based interpreter.\n",
    "\n",
    "### Python\n",
    "Code is converted to a platform-independant bytecode (which is an intermediate representation, not as specific as binary), which is then run by the python interpreter."
   ],
   "metadata": {}
  },
  {
   "cell_type": "markdown",
   "source": [
    "## Python syntax!"
   ],
   "metadata": {}
  },
  {
   "cell_type": "markdown",
   "source": [
    "Let's begin with variables. They hold a value. The values can be numbers, strings, lists, and so on. We'll cover strings, lists, etc in a bit!"
   ],
   "metadata": {}
  },
  {
   "cell_type": "code",
   "execution_count": 3,
   "source": [
    "# `=` here assigns \"abcxyz\" to the variable `name`\n",
    "\n",
    "name = \"abcxyz\" # feel free to enter your own name!\n",
    "name"
   ],
   "outputs": [
    {
     "output_type": "execute_result",
     "data": {
      "text/plain": [
       "'abcxyz'"
      ]
     },
     "metadata": {},
     "execution_count": 3
    }
   ],
   "metadata": {}
  },
  {
   "cell_type": "code",
   "execution_count": 4,
   "source": [
    "#In python, Variable names have to begin with an alphabet or an underscore (_). They can contain numbers, but no other symbols.\n",
    "hello = 43 # okay\n",
    "_num = 12 # okay\n",
    "\n",
    "bling$ = 5 # nope\n"
   ],
   "outputs": [
    {
     "output_type": "error",
     "ename": "SyntaxError",
     "evalue": "invalid syntax (3549436500.py, line 5)",
     "traceback": [
      "\u001b[0;36m  File \u001b[0;32m\"/tmp/ipykernel_110235/3549436500.py\"\u001b[0;36m, line \u001b[0;32m5\u001b[0m\n\u001b[0;31m    bling$ = 5\u001b[0m\n\u001b[0m         ^\u001b[0m\n\u001b[0;31mSyntaxError\u001b[0m\u001b[0;31m:\u001b[0m invalid syntax\n"
     ]
    }
   ],
   "metadata": {}
  },
  {
   "cell_type": "code",
   "execution_count": 5,
   "source": [
    "# Feel free to experiment with variables in this cell! Just click, remove the comment and add your own code."
   ],
   "outputs": [],
   "metadata": {}
  },
  {
   "cell_type": "markdown",
   "source": [
    "### Types\n",
    "Python is dynamically typed, which means that the type of a variable is not fixed, and the interpreter evaluates it at runtime.\n",
    "\n",
    "Complied languages, like rust, require type declarations like so:\n",
    "```rust\n",
    "let x : i32 = 3;\n",
    "```\n",
    "\n",
    "This is not the case with python! Let's try it out below."
   ],
   "metadata": {}
  },
  {
   "cell_type": "code",
   "execution_count": 6,
   "source": [
    "x = 4\n",
    "type(x) # this is a builtin function we can use to check a variable type. "
   ],
   "outputs": [
    {
     "output_type": "execute_result",
     "data": {
      "text/plain": [
       "int"
      ]
     },
     "metadata": {},
     "execution_count": 6
    }
   ],
   "metadata": {}
  },
  {
   "cell_type": "code",
   "execution_count": 10,
   "source": [
    "x = 5\n",
    "print(type(x))\n",
    "x = \"hello\"\n",
    "print(type(x)) # the type of `x` can be changed! (it cal hold different types of values in different parts of the program)\n"
   ],
   "outputs": [
    {
     "output_type": "stream",
     "name": "stdout",
     "text": [
      "<class 'int'>\n",
      "<class 'str'>\n"
     ]
    }
   ],
   "metadata": {}
  },
  {
   "cell_type": "code",
   "execution_count": 11,
   "source": [
    "# because of this, it's helpful to give variables sensible names while using python\n",
    "num = 4\n",
    "nums = [1,2,3,4] # many numbers, stored in a \"list\". We'll see what a list is in the next section!"
   ],
   "outputs": [],
   "metadata": {}
  },
  {
   "cell_type": "code",
   "execution_count": null,
   "source": [],
   "outputs": [],
   "metadata": {}
  },
  {
   "cell_type": "markdown",
   "source": [],
   "metadata": {}
  }
 ]
}