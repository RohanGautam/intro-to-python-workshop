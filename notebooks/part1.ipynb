{
 "metadata": {
  "language_info": {
   "codemirror_mode": {
    "name": "ipython",
    "version": 3
   },
   "file_extension": ".py",
   "mimetype": "text/x-python",
   "name": "python",
   "nbconvert_exporter": "python",
   "pygments_lexer": "ipython3",
   "version": "3.7.10"
  },
  "orig_nbformat": 4,
  "kernelspec": {
   "name": "python3",
   "display_name": "Python 3.7.10 64-bit ('torch-book': conda)"
  },
  "interpreter": {
   "hash": "ff75702022558467f9e376a4c7496a2e334bac142e56183f74be88028678ac45"
  }
 },
 "nbformat": 4,
 "nbformat_minor": 2,
 "cells": [
  {
   "cell_type": "markdown",
   "source": [
    "# Introduction to python\n",
    "\n",
    "Hello, all! What you see in front of you is a python notebook, also referred to as a \"jupyter notebook\". The notebook interface for python was made by [project jupyter](https://jupyter.org/), and is a super popular way to write and share python code."
   ],
   "metadata": {}
  },
  {
   "cell_type": "markdown",
   "source": [
    "This interface runs in your web browser and allows a lot of things in one document - equations, images, visualisations, explanations, and of course, code."
   ],
   "metadata": {}
  },
  {
   "cell_type": "markdown",
   "source": [
    "Check out these equations- written in MathJax, a subset of LaTeX. \n",
    "\n",
    "\\begin{align}\n",
    "\\dot{x} & = \\sigma(y-x) \\\\\n",
    "\\dot{y} & = \\rho x - y - xz \\\\\n",
    "\\dot{z} & = -\\beta z + xy\n",
    "\\end{align}\n"
   ],
   "metadata": {}
  },
  {
   "cell_type": "markdown",
   "source": [
    "And images!\n",
    "\n",
    "\n",
    "![](../assets/intro-to-python.png)"
   ],
   "metadata": {}
  },
  {
   "cell_type": "code",
   "execution_count": 3,
   "source": [
    "print(\"Hello world\")"
   ],
   "outputs": [
    {
     "output_type": "stream",
     "name": "stdout",
     "text": [
      "Hello world\n"
     ]
    }
   ],
   "metadata": {}
  },
  {
   "cell_type": "code",
   "execution_count": 1,
   "source": [
    "name = 'rohan'\n",
    "print(\"Hello there,\", name)"
   ],
   "outputs": [
    {
     "output_type": "stream",
     "name": "stdout",
     "text": [
      "Hello there, rohan\n"
     ]
    }
   ],
   "metadata": {}
  },
  {
   "cell_type": "code",
   "execution_count": null,
   "source": [],
   "outputs": [],
   "metadata": {}
  }
 ]
}